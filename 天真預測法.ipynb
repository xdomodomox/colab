{
  "nbformat": 4,
  "nbformat_minor": 0,
  "metadata": {
    "colab": {
      "provenance": [],
      "mount_file_id": "1fyWJQFEaEdFm6IMAieqZS3ReBWAPf-HL",
      "authorship_tag": "ABX9TyNJxHSWvHbMZoNz8q+IjYCs",
      "include_colab_link": true
    },
    "kernelspec": {
      "name": "python3",
      "display_name": "Python 3"
    },
    "language_info": {
      "name": "python"
    }
  },
  "cells": [
    {
      "cell_type": "markdown",
      "metadata": {
        "id": "view-in-github",
        "colab_type": "text"
      },
      "source": [
        "<a href=\"https://colab.research.google.com/github/xdomodomox/colab/blob/main/%E5%A4%A9%E7%9C%9F%E9%A0%90%E6%B8%AC%E6%B3%95.ipynb\" target=\"_parent\"><img src=\"https://colab.research.google.com/assets/colab-badge.svg\" alt=\"Open In Colab\"/></a>"
      ]
    },
    {
      "cell_type": "code",
      "execution_count": 3,
      "metadata": {
        "colab": {
          "base_uri": "https://localhost:8080/"
        },
        "id": "7bmhYhwn0PDw",
        "outputId": "ac5708b0-d958-4df7-8fa1-f49c078b9c77"
      },
      "outputs": [
        {
          "output_type": "stream",
          "name": "stdout",
          "text": [
            "基準值的RMSE: 247.42631655283768\n"
          ]
        }
      ],
      "source": [
        "import numpy as np\n",
        "import pandas as pd\n",
        "from sklearn.metrics import mean_squared_error\n",
        "\n",
        "# 讀取股票數據\n",
        "data = pd.read_csv('/content/drive/MyDrive/ANN_Timeseries_Forecast_python_demo/Data/Close.csv')\n",
        "\n",
        "# 提取 Close 數據\n",
        "close_data = data['Close'].values\n",
        "\n",
        "split =int(0.8*data.shape[0])\n",
        "Train,Test  = close_data[0:split] , close_data[split:]\n",
        "\n",
        "# 擷取最後一天的股價\n",
        "last_price = Train[-1]\n",
        "\n",
        "# 使用天真預測法預測未來股價\n",
        "future_price = np.full_like(Test, last_price)\n",
        "\n",
        "# 計算均方根誤差(RMSE)作為基準值的損失函數\n",
        "baseline_rmse = np.sqrt(mean_squared_error(Test, future_price))\n",
        "\n",
        "print('基準值的RMSE:', baseline_rmse)\n"
      ]
    }
  ]
}